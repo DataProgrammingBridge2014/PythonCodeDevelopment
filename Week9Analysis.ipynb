{
 "metadata": {
  "name": "",
  "signature": "sha256:1cc728941d185d84058053b4f67f5ffaf05077e623d38094bfd177921100be89"
 },
 "nbformat": 3,
 "nbformat_minor": 0,
 "worksheets": [
  {
   "cells": [
    {
     "cell_type": "markdown",
     "metadata": {},
     "source": [
      "# Week 9 Assignment"
     ]
    },
    {
     "cell_type": "markdown",
     "metadata": {},
     "source": [
      "##  Importing the data into Python and Graphing the 4 plots with regression lines."
     ]
    },
    {
     "cell_type": "markdown",
     "metadata": {},
     "source": [
      "The code below allows us to connect to a local SQLite database and pull the data from that location. Notice this a shorter an more flexible method then pulling from csv but requires the data to be stored locally."
     ]
    },
    {
     "cell_type": "code",
     "collapsed": false,
     "input": [
      "import sqlite3\n",
      "import pandas as pd\n",
      "import numpy as np\n",
      "import matplotlib.pyplot as plt\n",
      "import statsmodels.api as sm\n",
      "from scipy import stats\n",
      "%matplotlib inline\n",
      "conn = sqlite3.connect('D:/Erik/cunyweek9.sqlite')\n",
      "cur = conn.cursor()\n",
      "\n",
      "#Takes the data from the SQLite database and generates a set of points\n",
      "def read_table(tablename):\n",
      "    table = str(tablename)\n",
      "    cur.execute('SELECT * FROM %s' %table)\n",
      "    points = []\n",
      "    for row in cur:\n",
      "        points.append(row)\n",
      "        points.sort()\n",
      "    return points\n"
     ],
     "language": "python",
     "metadata": {},
     "outputs": [],
     "prompt_number": 1
    },
    {
     "cell_type": "markdown",
     "metadata": {},
     "source": [
      "The following code allows us to pull the data from our csv file on github and cleans the data so that it fits with the rest of the codebase. Both methods have been tested and both work correctly."
     ]
    },
    {
     "cell_type": "code",
     "collapsed": false,
     "input": [
      "import csv\n",
      "import urllib\n",
      "\n",
      "url = \"https://raw.githubusercontent.com/DataProgrammingBridge2014/RCodeDevelopment/master/cuny9.csv\"\n",
      "webpage = urllib.urlopen(url)\n",
      "datareader = csv.reader(webpage.read().decode('utf-8').splitlines())\n",
      "data = list(datareader)\n",
      "\n",
      "#Cleans the data from being in string format to numerical format and sorts the data.\n",
      "def data_clean(points):\n",
      "    clean_points =[]\n",
      "    for point in points:\n",
      "        clean_points.append((float(point[0]),float(point[1])))\n",
      "    clean_points.sort()\n",
      "    return clean_points\n",
      "\n",
      "#Takes the data from the csv file and generates the list of points.\n",
      "def get_points(n):\n",
      "    points = []\n",
      "    for row in data:\n",
      "        points.append((row[2*n-1],row[2*n]))\n",
      "    points.pop(0)\n",
      "    points = data_clean(points) #call to data_clean to clean up the data.\n",
      "    return points"
     ],
     "language": "python",
     "metadata": {},
     "outputs": [],
     "prompt_number": 11
    },
    {
     "cell_type": "markdown",
     "metadata": {},
     "source": [
      "Next we create the helper functions that handle the analysis and generate the plots for our analysis.\n",
      "* plot_reg() generates the scaterplots and preforms the regression that is graphed with the scatterplots.\n",
      "* des_stats() generates descriptive statistics for the given data set.\n",
      "* least_squares() generates the data from an ordinarly least squares regression including residuals and Durbin-Watson results."
     ]
    },
    {
     "cell_type": "code",
     "collapsed": false,
     "input": [
      "#Takes a list of points(as a tuple or list), a title for the plot, and degree of the\n",
      "#model and generates a scatterplot and a regression line for the data.\n",
      "def plot_reg(ax, points, title, degree=1):\n",
      "    x = []\n",
      "    y = []\n",
      "    for point in points:\n",
      "        x.append(point[0])\n",
      "        y.append(point[1])\n",
      "    fit = np.polyfit(x, y, degree)\n",
      "    yp = np.polyval(fit, x)\n",
      "    ax.scatter(x, y) #Scatter plot of the data\n",
      "    ax.plot(x,yp) #Plots the regression line\n",
      "    ax.set_xlabel('x')\n",
      "    ax.set_ylabel('y')\n",
      "    ax.set_title(title)\n",
      "\n",
      "#Generates and output of the descriptive statistics for the data set    \n",
      "def des_stats(points,title):\n",
      "    n, min_max, mean, var, skew, kurt = stats.describe(points) #scipy function for descriptive stats\n",
      "    print title\n",
      "    print 'Number of elements: %d' % n\n",
      "    min_val = min_max[0][1]\n",
      "    max_val = min_max[1][1]\n",
      "    print 'Minimum: %f Maximum: %f' % (min_val, max_val)\n",
      "    print 'Mean: %f' % mean[1]\n",
      "    print 'Variance: %f' % var[1]\n",
      "    print 'Skew : %f' % skew[1]\n",
      "    print 'Kurtosis: %f' % kurt[1]\n",
      "    print ''\n",
      "\n",
      "#Generates the Ordininary Least Squares regression and prints the summary stats.\n",
      "def least_squares(points,title):\n",
      "    x = []\n",
      "    y = []\n",
      "    for point in points:\n",
      "        x.append(point[0])\n",
      "        y.append(point[1])\n",
      "    ols_model = sm.OLS(y, x) #OLS must be capatialized here.\n",
      "    ols_fit = ols_model.fit()\n",
      "    print title\n",
      "    print ols_fit.summary()\n",
      "    print ' '"
     ],
     "language": "python",
     "metadata": {},
     "outputs": [],
     "prompt_number": 12
    },
    {
     "cell_type": "markdown",
     "metadata": {},
     "source": [
      "Finally we call the function for each table in the database and assign each to it's own list."
     ]
    },
    {
     "cell_type": "code",
     "collapsed": false,
     "input": [
      "points1 = get_points(1)\n",
      "points2 = get_points(2)\n",
      "points3 = get_points(3)\n",
      "points4 = get_points(4)"
     ],
     "language": "python",
     "metadata": {},
     "outputs": [],
     "prompt_number": 13
    },
    {
     "cell_type": "markdown",
     "metadata": {},
     "source": [
      "Plotting the 4 data sets with regression lines."
     ]
    },
    {
     "cell_type": "code",
     "collapsed": false,
     "input": [
      "#fig allows you to put multiple plots in one resizable figure\n",
      "fig, ((ax1, ax2),(ax3,ax4)) = plt.subplots(nrows=2, ncols=2)\n",
      "plot_reg(ax1, points1, 'Data Set I')\n",
      "plot_reg(ax2, points2, 'Data Set II')\n",
      "plot_reg(ax3, points3, 'Data Set III')\n",
      "plot_reg(ax4, points4, 'Data Set IV')\n",
      "plt.tight_layout()"
     ],
     "language": "python",
     "metadata": {},
     "outputs": [
      {
       "metadata": {},
       "output_type": "display_data",
       "png": "[encoded data removed]",
       "text": [
        "<matplotlib.figure.Figure at 0x17bfd5c0>"
       ]
      }
     ],
     "prompt_number": 14
    },
    {
     "cell_type": "markdown",
     "metadata": {},
     "source": [
      "The following shows the data from running the linear regression on the four data sets. If you notice the data sets are very similar for each of teh measures. This points out the weakness of looking at just the descriptive values for the data sets without actually looking at the graphs. From the descriptive stats we would asume that all of the data sets are modeled by the same function but it is obvious from the graphs above that this is not the case. "
     ]
    },
    {
     "cell_type": "code",
     "collapsed": false,
     "input": [
      "least_squares(points1,'Data Set I')\n",
      "least_squares(points2,'Data Set II')\n",
      "least_squares(points3,'Data Set III')\n",
      "least_squares(points4,'Data Set IV')"
     ],
     "language": "python",
     "metadata": {},
     "outputs": [
      {
       "output_type": "stream",
       "stream": "stdout",
       "text": [
        "Data Set I\n",
        "                            OLS Regression Results                            \n",
        "==============================================================================\n",
        "Dep. Variable:                      y   R-squared:                       0.963\n",
        "Model:                            OLS   Adj. R-squared:                  0.959\n",
        "Method:                 Least Squares   F-statistic:                     257.9\n",
        "Date:                Sun, 03 Aug 2014   Prob (F-statistic):           1.81e-08\n",
        "Time:                        23:22:26   Log-Likelihood:                -20.044\n",
        "No. Observations:                  11   AIC:                             42.09\n",
        "Df Residuals:                      10   BIC:                             42.49\n",
        "Df Model:                           1                                         \n",
        "==============================================================================\n",
        "                 coef    std err          t      P>|t|      [95.0% Conf. Int.]\n",
        "------------------------------------------------------------------------------\n",
        "x1             0.7968      0.050     16.059      0.000         0.686     0.907\n",
        "==============================================================================\n",
        "Omnibus:                        1.171   Durbin-Watson:                   2.491\n",
        "Prob(Omnibus):                  0.557   Jarque-Bera (JB):                0.684\n",
        "Skew:                          -0.572   Prob(JB):                        0.710\n",
        "Kurtosis:                       2.573   Cond. No.                         1.00\n",
        "=============================================================================="
       ]
      },
      {
       "output_type": "stream",
       "stream": "stdout",
       "text": [
        "\n",
        " \n",
        "Data Set II\n",
        "                            OLS Regression Results                            \n",
        "==============================================================================\n",
        "Dep. Variable:                      y   R-squared:                       0.963\n",
        "Model:                            OLS   Adj. R-squared:                  0.959\n",
        "Method:                 Least Squares   F-statistic:                     257.7\n",
        "Date:                Sun, 03 Aug 2014   Prob (F-statistic):           1.82e-08\n",
        "Time:                        23:22:26   Log-Likelihood:                -20.049\n",
        "No. Observations:                  11   AIC:                             42.10\n",
        "Df Residuals:                      10   BIC:                             42.50\n",
        "Df Model:                           1                                         \n",
        "==============================================================================\n",
        "                 coef    std err          t      P>|t|      [95.0% Conf. Int.]\n",
        "------------------------------------------------------------------------------\n",
        "x1             0.7968      0.050     16.053      0.000         0.686     0.907\n",
        "==============================================================================\n",
        "Omnibus:                        4.616   Durbin-Watson:                   2.550\n",
        "Prob(Omnibus):                  0.099   Jarque-Bera (JB):                2.202\n",
        "Skew:                          -1.093   Prob(JB):                        0.333\n",
        "Kurtosis:                       3.153   Cond. No.                         1.00\n",
        "==============================================================================\n",
        " \n",
        "Data Set III\n",
        "                            OLS Regression Results                            \n",
        "==============================================================================\n",
        "Dep. Variable:                      y   R-squared:                       0.963\n",
        "Model:                            OLS   Adj. R-squared:                  0.959\n",
        "Method:                 Least Squares   F-statistic:                     257.7\n",
        "Date:                Sun, 03 Aug 2014   Prob (F-statistic):           1.82e-08\n",
        "Time:                        23:22:26   Log-Likelihood:                -20.047\n",
        "No. Observations:                  11   AIC:                             42.09\n",
        "Df Residuals:                      10   BIC:                             42.49\n",
        "Df Model:                           1                                         \n",
        "==============================================================================\n",
        "                 coef    std err          t      P>|t|      [95.0% Conf. Int.]\n",
        "------------------------------------------------------------------------------\n",
        "x1             0.7967      0.050     16.053      0.000         0.686     0.907\n",
        "==============================================================================\n",
        "Omnibus:                        0.727   Durbin-Watson:                   1.874\n",
        "Prob(Omnibus):                  0.695   Jarque-Bera (JB):                0.614\n",
        "Skew:                          -0.215   Prob(JB):                        0.735\n",
        "Kurtosis:                       1.925   Cond. No.                         1.00\n",
        "=============================================================================="
       ]
      },
      {
       "output_type": "stream",
       "stream": "stdout",
       "text": [
        "\n",
        " \n",
        "Data Set IV\n",
        "                            OLS Regression Results                            \n",
        "==============================================================================\n",
        "Dep. Variable:                      y   R-squared:                       0.963\n",
        "Model:                            OLS   Adj. R-squared:                  0.959\n",
        "Method:                 Least Squares   F-statistic:                     258.0\n",
        "Date:                Sun, 03 Aug 2014   Prob (F-statistic):           1.81e-08\n",
        "Time:                        23:22:26   Log-Likelihood:                -20.043\n",
        "No. Observations:                  11   AIC:                             42.09\n",
        "Df Residuals:                      10   BIC:                             42.48\n",
        "Df Model:                           1                                         \n",
        "==============================================================================\n",
        "                 coef    std err          t      P>|t|      [95.0% Conf. Int.]\n",
        "------------------------------------------------------------------------------\n",
        "x1             0.7968      0.050     16.062      0.000         0.686     0.907\n",
        "==============================================================================\n",
        "Omnibus:                        0.522   Durbin-Watson:                   0.947\n",
        "Prob(Omnibus):                  0.770   Jarque-Bera (JB):                0.468\n",
        "Skew:                          -0.395   Prob(JB):                        0.791\n",
        "Kurtosis:                       2.370   Cond. No.                         1.00\n",
        "==============================================================================\n",
        " \n"
       ]
      },
      {
       "output_type": "stream",
       "stream": "stderr",
       "text": [
        "D:\\Users\\Erik\\Anaconda\\lib\\site-packages\\scipy\\stats\\stats.py:1205: UserWarning: kurtosistest only valid for n>=20 ... continuing anyway, n=11\n",
        "  int(n))\n"
       ]
      }
     ],
     "prompt_number": 7
    },
    {
     "cell_type": "markdown",
     "metadata": {},
     "source": [
      "The following shows the descriptive statistics for the four data sets. Notice that the 4 sets are very similar for the mean and variance but have very different skew and kutosis values."
     ]
    },
    {
     "cell_type": "code",
     "collapsed": false,
     "input": [
      "#using scipy to do descriptive stats on the data set\n",
      "des_stats(points1, 'Data Set I')\n",
      "des_stats(points2, 'Data Set II')\n",
      "des_stats(points3, 'Data Set III')\n",
      "des_stats(points4, 'Data Set IV')"
     ],
     "language": "python",
     "metadata": {},
     "outputs": [
      {
       "output_type": "stream",
       "stream": "stdout",
       "text": [
        "Data Set I\n",
        "Number of elements: 11\n",
        "Minimum: 4.260000 Maximum: 10.840000\n",
        "Mean: 7.500909\n",
        "Variance: 4.127269\n",
        "Skew : -0.055808\n",
        "Kurtosis: -0.820939\n",
        "\n",
        "Data Set II\n",
        "Number of elements: 11\n",
        "Minimum: 3.100000 Maximum: 9.260000\n",
        "Mean: 7.500909\n",
        "Variance: 4.127629\n",
        "Skew : -1.129108\n",
        "Kurtosis: 0.007674\n",
        "\n",
        "Data Set III\n",
        "Number of elements: 11\n",
        "Minimum: 5.390000 Maximum: 12.740000\n",
        "Mean: 7.500000\n",
        "Variance: 4.122620\n",
        "Skew : 1.592231\n",
        "Kurtosis: 2.130453\n",
        "\n",
        "Data Set IV\n",
        "Number of elements: 11\n",
        "Minimum: 5.250000 Maximum: 12.500000\n",
        "Mean: 7.500909\n",
        "Variance: 4.123249\n",
        "Skew : 1.293025\n",
        "Kurtosis: 1.390789\n",
        "\n"
       ]
      }
     ],
     "prompt_number": 8
    },
    {
     "cell_type": "markdown",
     "metadata": {},
     "source": [
      "In the following we evaluate the Data Set III again with the outlier removed."
     ]
    },
    {
     "cell_type": "code",
     "collapsed": false,
     "input": [
      "#Removing the outlier and sorting the data.\n",
      "points5 = [(10,7.46), (8,6.77), (9, 7.11), (11, 7.81), (14, 8.84), (6, 6.08), (4, 5.39),\n",
      "           (12, 8.15), (7, 6.42), (5, 5.73)]\n",
      "points5.sort()\n",
      "\n",
      "#Generating the plot.\n",
      "fig, ax = plt.subplots()\n",
      "plot_reg(ax, points5, 'Data III with Outlier Removed')\n",
      "plt.tight_layout()\n",
      "\n",
      "#Generating the regression statistics.\n",
      "least_squares(points5, 'Data III with Outlier Removed')\n",
      "\n",
      "#Generating the descriptive statistics.\n",
      "des_stats(points5, 'Data III with Outlier Removed')"
     ],
     "language": "python",
     "metadata": {},
     "outputs": [
      {
       "output_type": "stream",
       "stream": "stdout",
       "text": [
        "Data III with Outlier Removed\n",
        "                            OLS Regression Results                            \n",
        "==============================================================================\n",
        "Dep. Variable:                      y   R-squared:                       0.964\n",
        "Model:                            OLS   Adj. R-squared:                  0.960\n",
        "Method:                 Least Squares   F-statistic:                     242.4\n",
        "Date:                Sun, 03 Aug 2014   Prob (F-statistic):           8.17e-08\n",
        "Time:                        23:22:37   Log-Likelihood:                -17.078\n",
        "No. Observations:                  10   AIC:                             36.16\n",
        "Df Residuals:                       9   BIC:                             36.46\n",
        "Df Model:                           1                                         \n",
        "==============================================================================\n",
        "                 coef    std err          t      P>|t|      [95.0% Conf. Int.]\n",
        "------------------------------------------------------------------------------\n",
        "x1             0.7594      0.049     15.568      0.000         0.649     0.870\n",
        "==============================================================================\n",
        "Omnibus:                        0.416   Durbin-Watson:                   0.116\n",
        "Prob(Omnibus):                  0.812   Jarque-Bera (JB):                0.479\n",
        "Skew:                          -0.169   Prob(JB):                        0.787\n",
        "Kurtosis:                       1.982   Cond. No.                         1.00\n",
        "==============================================================================\n",
        " \n",
        "Data III with Outlier Removed\n",
        "Number of elements: 10\n",
        "Minimum: 5.390000 Maximum: 8.840000\n",
        "Mean: 6.976000\n",
        "Variance: 1.224760\n",
        "Skew : 0.169936\n",
        "Kurtosis: -1.025550\n",
        "\n"
       ]
      },
      {
       "output_type": "stream",
       "stream": "stderr",
       "text": [
        "D:\\Users\\Erik\\Anaconda\\lib\\site-packages\\scipy\\stats\\stats.py:1205: UserWarning: kurtosistest only valid for n>=20 ... continuing anyway, n=10\n",
        "  int(n))\n"
       ]
      },
      {
       "metadata": {},
       "output_type": "display_data",
       "png": "[encoded data removed]",
       "text": [
        "<matplotlib.figure.Figure at 0x17bf6780>"
       ]
      }
     ],
     "prompt_number": 9
    },
    {
     "cell_type": "markdown",
     "metadata": {},
     "source": [
      "In the following section we try fitting various polynomial functions to Data Set II. Notice that we use the same function as we used when doing the linear regression but this time we pass a third argument which sets the degree of the polynomial we are using."
     ]
    },
    {
     "cell_type": "code",
     "collapsed": false,
     "input": [
      "#Trying four different polynomial regressions.\n",
      "fig, ((ax1, ax2),(ax3,ax4)) = plt.subplots(nrows=2, ncols=2)\n",
      "plot_reg(ax1, points2, 'Data Set II - Linear', 1)\n",
      "plot_reg(ax2, points2, 'Data Set II - Quadratic', 2)\n",
      "plot_reg(ax3, points2, 'Data Set II - Cubic', 3)\n",
      "plot_reg(ax4, points2, 'Data Set II - Quartic', 4)\n",
      "plt.tight_layout()"
     ],
     "language": "python",
     "metadata": {},
     "outputs": [
      {
       "metadata": {},
       "output_type": "display_data",
       "png": "[encoded data removed]",
       "text": [
        "<matplotlib.figure.Figure at 0x17e1e780>"
       ]
      }
     ],
     "prompt_number": 15
    },
    {
     "cell_type": "markdown",
     "metadata": {},
     "source": [
      "Generating descriptive statistics for these models is an area that we could expand on."
     ]
    }
   ],
   "metadata": {}
  }
 ]
}